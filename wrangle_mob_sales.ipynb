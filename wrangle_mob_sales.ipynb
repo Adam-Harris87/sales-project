{
 "cells": [
  {
   "cell_type": "code",
   "execution_count": null,
   "id": "305b2964",
   "metadata": {},
   "outputs": [],
   "source": [
    "import numpy as np\n",
    "import pandas as pd\n",
    "import os\n",
    "# import sklearn.mo\n",
    "import wrangle_mob as w"
   ]
  },
  {
   "cell_type": "code",
   "execution_count": null,
   "id": "6f8c84c6",
   "metadata": {},
   "outputs": [],
   "source": [
    "def acquire_mob_sales():\n",
    "    '''\n",
    "    This function will read in tables from 3 xlsm excel documents containing sales\n",
    "    order history for customers\n",
    "    '''\n",
    "    # get sales order history for customers\n",
    "    sales = retention_18 = pd.read_excel('mob_sales.xlsx', sheet_name=0)\n",
    "    sorder_details = raw_6 = pd.read_excel('mob_sales.xlsx', sheet_name=1)\n",
    "    # get a customer list\n",
    "    customer_list = retention_17 = pd.read_excel('mob_sales.xlsx', sheet_name=3)\n",
    "    # return the 4 dataframes\n",
    "    return sales, sorder_details, customer_list"
   ]
  },
  {
   "cell_type": "code",
   "execution_count": null,
   "id": "de6392ec",
   "metadata": {},
   "outputs": [],
   "source": [
    "def acquire_mob_item_history():\n",
    "    '''\n",
    "    This function will retreive a table from an xlsm excel document containing\n",
    "    item sales history by week for all products\n",
    "    '''\n",
    "    # get item sales history\n",
    "    item_sales = pd.read_excel('mob_sales.xlsx', sheet_name=2)\n",
    "    # return dataframe\n",
    "    return item_sales"
   ]
  },
  {
   "cell_type": "code",
   "execution_count": null,
   "id": "81921126",
   "metadata": {},
   "outputs": [],
   "source": [
    "def prepare_mob_item_history(all_sales_history):\n",
    "    '''\n",
    "    This function will take in item sales history for all products, it will then\n",
    "    drop unnecessary columns and change the change the index to datetime format,\n",
    "    it will then change the sku names of products to generic numbers.\n",
    "    '''\n",
    "    # remove items that are inactive products\n",
    "    sales_history = all_sales_history[all_sales_history.Forecast == True\n",
    "                  # remove unnecessary columns\n",
    "                 ].drop(columns=['Lifetime', 'Forecast'\n",
    "                                 # remove extra columns that have no data\n",
    "                                ]).dropna(axis=1\n",
    "                                          # change the column headers to item_sku\n",
    "                                         ).set_index('SKU').T\n",
    "    # convert the index to datetime\n",
    "    sales_history.index = pd.to_datetime(sales_history.index)\n",
    "    # resample the index to standard week format\n",
    "    sales_history = sales_history.resample('W').sum()\n",
    "    # replace product skus with generic numbers for infosec\n",
    "    sales_history.columns = ['prod_' + str(x) for x in range(0,len(sales_history.columns))]\n",
    "    # return the prepared dataframe\n",
    "    return sales_history"
   ]
  },
  {
   "cell_type": "code",
   "execution_count": null,
   "id": "3ab290dd",
   "metadata": {},
   "outputs": [],
   "source": [
    "def prepare_mob_sales_order(sales, sorder_details, customer_list):\n",
    "    '''\n",
    "    This function will take in dataframes of sales orders, the order details, and a list\n",
    "    of customers. it will then merge the dfs, fill in null values with appropriate values,\n",
    "    remove suspended customers, and then remove some now unnecessary info.\n",
    "    '''\n",
    "    # merge sales orders with the sales order details\n",
    "    sales_orders = pd.merge(left=sales, \n",
    "                            right=sorder_details, \n",
    "                            how='left', \n",
    "                            on='OrderID')\n",
    "    # fill na values\n",
    "    sales_orders.QtyOrdered.fillna(1, inplace=True)\n",
    "    sales_orders.QtyShipped.fillna(0, inplace=True)\n",
    "    # get a list of suspended customers from the customer list, since we don't want\n",
    "    # suspended customers in the final report\n",
    "    suspended_list = customer_list[['CustomerID', 'Suspended'\n",
    "                               ]][customer_list.Suspended == False]\n",
    "    # merge the suspended list with the sales orders\n",
    "    sorders = pd.merge(left=sales_orders, \n",
    "                       right=suspended_list, \n",
    "                       how='left', \n",
    "                       on='CustomerID')\n",
    "    # suspended customers will ahve a null value in the Suspended column,\n",
    "    # drop the suspended info then remove the suspended column\n",
    "    sorders = sorders[sorders.Suspended.isna() == False].drop(columns='Suspended')\n",
    "    # change column names to lowercase\n",
    "    sorders.columns = [col.lower() for col in sorders]\n",
    "    # make sure the order dates are in datetime format\n",
    "    sorders.index = pd.to_datetime(sorders.index, format='%Y-%m-%d')\n",
    "    # set the index to the orderdate so we can work with the data as a time series problem\n",
    "    sorders = sorders.set_index('orderdate').sort_index()\n",
    "    # remove the one row that has decimal qty ordered and qty_shipped\n",
    "    sorders = sorders[~(sorders.qtyordered.astype(int) != sorders.qtyordered)]\n",
    "    # convert the float type columns to int\n",
    "    sorders.qtyordered = sorders.qtyordered.astype(int)\n",
    "    sorders.qtyshipped = sorders.qtyshipped.astype(int)\n",
    "    # change column names to be more readable\n",
    "    cols = ['order_id', 'order_no', 'customer_id', 'order_status', 'order_amount',\n",
    "         'seq', 'qty_ordered', 'qty_shipped', 'item_id']\n",
    "    sorders.columns = cols\n",
    "    # return the prepared sales orders dataframe\n",
    "    return sorders"
   ]
  },
  {
   "cell_type": "code",
   "execution_count": null,
   "id": "2a1f666f",
   "metadata": {},
   "outputs": [],
   "source": [
    "def wrangle_mob_item_sales():\n",
    "    '''\n",
    "    This function will check for existance of item sales history csv file in the local\n",
    "    directory, if one does not exist it will acquire the dataset, prepare it, then \n",
    "    create a csv file and either way it will return the prepared dataframe.\n",
    "    '''\n",
    "    # check for existance of item_history.csv file in the local directory\n",
    "    if os.path.exists('item_history.csv'):\n",
    "        # read in csv file if one exists\n",
    "        item_history = pd.read_csv('item_history.csv', index_col=0, parse_dates=True)\n",
    "    # if csv file does not exist\n",
    "    else:\n",
    "        # read in dataset from excel file\n",
    "        all_item_history = acquire_mob_item_history()\n",
    "        # prepare the data\n",
    "        item_history = prepare_mob_item_history(all_item_history)\n",
    "        # write a new csv file to the local directory\n",
    "        item_history.to_csv('item_history.csv')\n",
    "    # return the prepared dataframe\n",
    "    return item_history"
   ]
  },
  {
   "cell_type": "code",
   "execution_count": null,
   "id": "74f64884",
   "metadata": {},
   "outputs": [],
   "source": [
    "def wrangle_mob_sales():\n",
    "    '''\n",
    "    This function will check for existance of sales orders history csv file in the local\n",
    "    directory, if one does not exist it will acquire the dataset, prepare it, then \n",
    "    create a csv file and either way it will return the prepared dataframe.\n",
    "    '''\n",
    "    # check for existance of item_history.csv file in the local directory\n",
    "    if os.path.exists('sales_history.csv'):\n",
    "        # read in csv file if one exists\n",
    "        sales = pd.read_csv('sales_history.csv', index_col=0, parse_dates=True)\n",
    "    # if csv file does not exist\n",
    "    else:\n",
    "        # read in dataset from excel file\n",
    "        sales_history, sorder_details, customer_list = acquire_mob_sales()\n",
    "        # prepare the data\n",
    "        sales = prepare_mob_sales_order(sales_history, sorder_details, customer_list)\n",
    "        # write a new csv file to the local directory\n",
    "        sales.to_csv('sales_history.csv')\n",
    "    # return the prepared dataframe\n",
    "    return sales"
   ]
  },
  {
   "cell_type": "code",
   "execution_count": null,
   "id": "12cee304",
   "metadata": {},
   "outputs": [],
   "source": [
    "items = w.wrangle_mob_item_sales()"
   ]
  },
  {
   "cell_type": "code",
   "execution_count": null,
   "id": "5dce51e1",
   "metadata": {},
   "outputs": [],
   "source": [
    "items"
   ]
  },
  {
   "cell_type": "code",
   "execution_count": null,
   "id": "99d19f61",
   "metadata": {},
   "outputs": [],
   "source": [
    "items.index = pd.to_datetime(items.index)"
   ]
  },
  {
   "cell_type": "code",
   "execution_count": null,
   "id": "a165628a",
   "metadata": {},
   "outputs": [],
   "source": [
    "items.index"
   ]
  },
  {
   "cell_type": "code",
   "execution_count": null,
   "id": "27a6f648",
   "metadata": {},
   "outputs": [],
   "source": [
    "sales = w.wrangle_mob_sales()"
   ]
  },
  {
   "cell_type": "code",
   "execution_count": null,
   "id": "ead9325d",
   "metadata": {},
   "outputs": [],
   "source": [
    "# sales.index = pd.to_datetime(sales.index)"
   ]
  },
  {
   "cell_type": "code",
   "execution_count": null,
   "id": "0eb5ea07",
   "metadata": {},
   "outputs": [],
   "source": [
    "sales.index"
   ]
  },
  {
   "cell_type": "code",
   "execution_count": null,
   "id": "6f7707e3",
   "metadata": {},
   "outputs": [],
   "source": [
    "# sales.resample('Y').order_amount.mean().plot()"
   ]
  },
  {
   "cell_type": "code",
   "execution_count": null,
   "id": "18eb40f8",
   "metadata": {},
   "outputs": [],
   "source": [
    "sales, sorder_details, customer_list = w.acquire_mob_sales()"
   ]
  },
  {
   "cell_type": "code",
   "execution_count": null,
   "id": "17f34809",
   "metadata": {},
   "outputs": [],
   "source": [
    "sales.head()"
   ]
  },
  {
   "cell_type": "code",
   "execution_count": null,
   "id": "e5588d47",
   "metadata": {},
   "outputs": [],
   "source": [
    "sales.OrderDate.value_counts().sort_values()"
   ]
  },
  {
   "cell_type": "code",
   "execution_count": null,
   "id": "fc0c3459",
   "metadata": {},
   "outputs": [],
   "source": [
    "sales.OrderDate = pd.to_datetime(sales.OrderDate, format='%Y-%m-%d')"
   ]
  },
  {
   "cell_type": "code",
   "execution_count": null,
   "id": "012a0cea",
   "metadata": {},
   "outputs": [],
   "source": [
    "sales.OrderDate"
   ]
  },
  {
   "cell_type": "code",
   "execution_count": null,
   "id": "e1d7ba31",
   "metadata": {},
   "outputs": [],
   "source": [
    "all_sales_history = acquire_mob_item_history()"
   ]
  },
  {
   "cell_type": "code",
   "execution_count": null,
   "id": "2bf4e456",
   "metadata": {},
   "outputs": [],
   "source": [
    "all_sales_history.head()"
   ]
  },
  {
   "cell_type": "code",
   "execution_count": null,
   "id": "8502ea57",
   "metadata": {},
   "outputs": [],
   "source": [
    "all_sales_history.T"
   ]
  },
  {
   "cell_type": "code",
   "execution_count": null,
   "id": "719b71d7",
   "metadata": {},
   "outputs": [],
   "source": [
    "sale_1 = all_sales_history[['SKU', 'Forecast', 'Lifetime']]"
   ]
  },
  {
   "cell_type": "code",
   "execution_count": null,
   "id": "2f7abb7d",
   "metadata": {},
   "outputs": [],
   "source": [
    "sale_1"
   ]
  },
  {
   "cell_type": "code",
   "execution_count": null,
   "id": "f49aa807",
   "metadata": {},
   "outputs": [],
   "source": [
    "sale_1 = sale_1.drop(columns='Lifetime')"
   ]
  },
  {
   "cell_type": "code",
   "execution_count": null,
   "id": "039a559c",
   "metadata": {},
   "outputs": [],
   "source": [
    "sale_2 = all_sales_history.drop(\n",
    "    columns=['SKU', 'Forecast', 'Lifetime'])"
   ]
  },
  {
   "cell_type": "code",
   "execution_count": null,
   "id": "ae991b72",
   "metadata": {},
   "outputs": [],
   "source": [
    "sale_2 = sale_2.dropna(axis=1)"
   ]
  },
  {
   "cell_type": "code",
   "execution_count": null,
   "id": "bf627919",
   "metadata": {},
   "outputs": [],
   "source": [
    "sale_2.isna().sum()"
   ]
  },
  {
   "cell_type": "code",
   "execution_count": null,
   "id": "5018eecc",
   "metadata": {},
   "outputs": [],
   "source": [
    "all_sales_history[all_sales_history.Forecast == True\n",
    "                 ].drop(columns=['Lifetime', 'Forecast'\n",
    "                                ]).dropna(axis=1\n",
    "                                         ).set_index('SKU').head().T"
   ]
  },
  {
   "cell_type": "code",
   "execution_count": null,
   "id": "f1ad39cb",
   "metadata": {},
   "outputs": [],
   "source": [
    "sales_history = all_sales_history[all_sales_history.Forecast == True\n",
    "                 ].drop(columns=['Lifetime', 'Forecast'\n",
    "                                ]).dropna(axis=1\n",
    "                                         ).set_index('SKU').T"
   ]
  },
  {
   "cell_type": "code",
   "execution_count": null,
   "id": "7efeb3c6",
   "metadata": {},
   "outputs": [],
   "source": [
    "sales_history"
   ]
  },
  {
   "cell_type": "code",
   "execution_count": null,
   "id": "87f77dd4",
   "metadata": {},
   "outputs": [],
   "source": [
    "sales.index"
   ]
  },
  {
   "cell_type": "code",
   "execution_count": null,
   "id": "e5ed1393",
   "metadata": {},
   "outputs": [],
   "source": [
    "item_test = pd.read_csv('item_history.csv', index_col=0, parse_dates=True)"
   ]
  },
  {
   "cell_type": "code",
   "execution_count": null,
   "id": "442eb2b6",
   "metadata": {},
   "outputs": [],
   "source": [
    "item_test.index"
   ]
  },
  {
   "cell_type": "code",
   "execution_count": null,
   "id": "f8a9802c",
   "metadata": {},
   "outputs": [],
   "source": [
    "# sales_history.index = pd.to_datetime(sales_history.drop(\n",
    "#     columns=['SKU', 'Desc']).index, format='%Y-%m-%d')"
   ]
  },
  {
   "cell_type": "code",
   "execution_count": null,
   "id": "841ab258",
   "metadata": {},
   "outputs": [],
   "source": [
    "sales_history.index"
   ]
  },
  {
   "cell_type": "code",
   "execution_count": null,
   "id": "ff87ea39",
   "metadata": {},
   "outputs": [],
   "source": [
    "date=pd.to_datetime(sales_history.index)"
   ]
  },
  {
   "cell_type": "code",
   "execution_count": null,
   "id": "274160b6",
   "metadata": {},
   "outputs": [],
   "source": [
    "sales_history.index = pd.to_datetime(sales_history.index)"
   ]
  },
  {
   "cell_type": "code",
   "execution_count": null,
   "id": "0c90c2ba",
   "metadata": {},
   "outputs": [],
   "source": [
    "sales_history = sales_history.resample('W').sum()"
   ]
  },
  {
   "cell_type": "code",
   "execution_count": null,
   "id": "dbf10c3f",
   "metadata": {},
   "outputs": [],
   "source": [
    "sku = ['prod_' + str(x) for x in range(0,len(sales_history.columns))]"
   ]
  },
  {
   "cell_type": "code",
   "execution_count": null,
   "id": "58124450",
   "metadata": {},
   "outputs": [],
   "source": [
    "sku"
   ]
  },
  {
   "cell_type": "code",
   "execution_count": null,
   "id": "de691199",
   "metadata": {},
   "outputs": [],
   "source": [
    "sales_history.columns = sku"
   ]
  },
  {
   "cell_type": "code",
   "execution_count": null,
   "id": "ad7588fc",
   "metadata": {},
   "outputs": [],
   "source": [
    "sales_history.columns = ['prod_' + str(x) for x in range(0,len(sales_history.columns))]"
   ]
  },
  {
   "cell_type": "code",
   "execution_count": null,
   "id": "b0fadaa8",
   "metadata": {},
   "outputs": [],
   "source": [
    "sales_history"
   ]
  },
  {
   "cell_type": "code",
   "execution_count": null,
   "id": "f3c4d966",
   "metadata": {},
   "outputs": [],
   "source": [
    "sales_history.shape"
   ]
  },
  {
   "cell_type": "code",
   "execution_count": null,
   "id": "e3516215",
   "metadata": {},
   "outputs": [],
   "source": []
  },
  {
   "cell_type": "code",
   "execution_count": null,
   "id": "814c1f3d",
   "metadata": {},
   "outputs": [],
   "source": [
    "sales_history.resample('M').sum()"
   ]
  },
  {
   "cell_type": "code",
   "execution_count": null,
   "id": "33f1c357",
   "metadata": {},
   "outputs": [],
   "source": [
    "sales_orders = sales"
   ]
  },
  {
   "cell_type": "code",
   "execution_count": null,
   "id": "4ce0a980",
   "metadata": {},
   "outputs": [],
   "source": [
    "sales_orders.head()"
   ]
  },
  {
   "cell_type": "code",
   "execution_count": null,
   "id": "af57429d",
   "metadata": {},
   "outputs": [],
   "source": [
    "sorder_details.head()"
   ]
  },
  {
   "cell_type": "code",
   "execution_count": null,
   "id": "b9d8823d",
   "metadata": {},
   "outputs": [],
   "source": [
    "sales_orders = pd.merge(left=sales_orders, right=sorder_details, how='left', on='OrderID')"
   ]
  },
  {
   "cell_type": "code",
   "execution_count": null,
   "id": "b9f5b3da",
   "metadata": {},
   "outputs": [],
   "source": [
    "sales_orders[sales_orders.OrderID == 40251]"
   ]
  },
  {
   "cell_type": "code",
   "execution_count": null,
   "id": "1f96f83d",
   "metadata": {},
   "outputs": [],
   "source": [
    "sales_orders.columns = [col.lower() for col in sales_orders]"
   ]
  },
  {
   "cell_type": "code",
   "execution_count": null,
   "id": "16f78539",
   "metadata": {},
   "outputs": [],
   "source": [
    "sales_orders.head()"
   ]
  },
  {
   "cell_type": "code",
   "execution_count": null,
   "id": "56dbc17b",
   "metadata": {},
   "outputs": [],
   "source": [
    "sales_orders.isna().sum()"
   ]
  },
  {
   "cell_type": "code",
   "execution_count": null,
   "id": "82c93456",
   "metadata": {},
   "outputs": [],
   "source": [
    "sales_orders[sales_orders.qtyordered.isna() == True]"
   ]
  },
  {
   "cell_type": "code",
   "execution_count": null,
   "id": "0c67cffc",
   "metadata": {},
   "outputs": [],
   "source": [
    "sales_orders[sales_orders.customerid == 213]"
   ]
  },
  {
   "cell_type": "markdown",
   "id": "7238a930",
   "metadata": {},
   "source": [
    "#### The only null in qtyordered has a qtyshipped of 1, and a completed status (3) so lets fill the qty ordered with 1"
   ]
  },
  {
   "cell_type": "code",
   "execution_count": null,
   "id": "6b766ed1",
   "metadata": {},
   "outputs": [],
   "source": [
    "sales_orders.qtyordered = sales_orders.qtyordered.fillna(1)"
   ]
  },
  {
   "cell_type": "code",
   "execution_count": null,
   "id": "0e80d12a",
   "metadata": {},
   "outputs": [],
   "source": [
    "sales_orders[sales_orders.qtyordered.isna() == True]"
   ]
  },
  {
   "cell_type": "code",
   "execution_count": null,
   "id": "71b236de",
   "metadata": {},
   "outputs": [],
   "source": [
    "sales_orders[sales_orders.qtyshipped.isna() == True].orderdate.agg(['min','max'])"
   ]
  },
  {
   "cell_type": "code",
   "execution_count": null,
   "id": "62bc2acf",
   "metadata": {},
   "outputs": [],
   "source": [
    "sales_orders[(sales_orders.qtyshipped.isna() == True) & \n",
    "             (sales_orders.orderdate >= '2019')]"
   ]
  },
  {
   "cell_type": "markdown",
   "id": "f67d3afe",
   "metadata": {},
   "source": [
    "#### Lets fill the null values in qtyshipped with 0"
   ]
  },
  {
   "cell_type": "code",
   "execution_count": null,
   "id": "949ec307",
   "metadata": {},
   "outputs": [],
   "source": [
    "sales_orders.qtyshipped.fillna(0, inplace=True)"
   ]
  },
  {
   "cell_type": "code",
   "execution_count": null,
   "id": "4628a059",
   "metadata": {},
   "outputs": [],
   "source": [
    "sales_orders[sales_orders.qtyshipped.isna() == True]"
   ]
  },
  {
   "cell_type": "code",
   "execution_count": null,
   "id": "b553c2d3",
   "metadata": {},
   "outputs": [],
   "source": [
    "sales_orders.isna().sum()"
   ]
  },
  {
   "cell_type": "code",
   "execution_count": null,
   "id": "7dc14ab5",
   "metadata": {},
   "outputs": [],
   "source": []
  },
  {
   "cell_type": "code",
   "execution_count": null,
   "id": "ffa74991",
   "metadata": {},
   "outputs": [],
   "source": [
    "customer_list.head()"
   ]
  },
  {
   "cell_type": "code",
   "execution_count": null,
   "id": "b1931fdd",
   "metadata": {},
   "outputs": [],
   "source": [
    "suspended_list = customer_list[['CustomerID', 'Suspended'\n",
    "                               ]][customer_list.Suspended == False]"
   ]
  },
  {
   "cell_type": "code",
   "execution_count": null,
   "id": "c1617ec2",
   "metadata": {},
   "outputs": [],
   "source": [
    "suspended_list"
   ]
  },
  {
   "cell_type": "code",
   "execution_count": null,
   "id": "ef47541a",
   "metadata": {},
   "outputs": [],
   "source": [
    "suspended_list.columns = [col.lower() for col in suspended_list]"
   ]
  },
  {
   "cell_type": "code",
   "execution_count": null,
   "id": "609ef80f",
   "metadata": {},
   "outputs": [],
   "source": [
    "sorders = pd.merge(left=sales_orders, right=suspended_list, how='left', on='customerid')"
   ]
  },
  {
   "cell_type": "code",
   "execution_count": null,
   "id": "2076784d",
   "metadata": {},
   "outputs": [],
   "source": [
    "sorders"
   ]
  },
  {
   "cell_type": "code",
   "execution_count": null,
   "id": "690db6a6",
   "metadata": {},
   "outputs": [],
   "source": [
    "sorders = sorders[sorders.suspended.isna() == False].drop(columns='suspended')"
   ]
  },
  {
   "cell_type": "code",
   "execution_count": null,
   "id": "d5911b80",
   "metadata": {},
   "outputs": [],
   "source": [
    "sorders.info()"
   ]
  },
  {
   "cell_type": "code",
   "execution_count": null,
   "id": "eadf48cf",
   "metadata": {},
   "outputs": [],
   "source": [
    "sorders = sorders.set_index('orderdate').sort_index()"
   ]
  },
  {
   "cell_type": "code",
   "execution_count": null,
   "id": "51e570bb",
   "metadata": {},
   "outputs": [],
   "source": [
    "sorders.qtyordered.value_counts()"
   ]
  },
  {
   "cell_type": "code",
   "execution_count": null,
   "id": "025e50a1",
   "metadata": {},
   "outputs": [],
   "source": [
    "(sorders.qtyordered.astype(int) != sorders.qtyordered).sum()"
   ]
  },
  {
   "cell_type": "code",
   "execution_count": null,
   "id": "da68ce12",
   "metadata": {},
   "outputs": [],
   "source": [
    "(sorders.qtyshipped.astype(int) != sorders.qtyshipped).sum()"
   ]
  },
  {
   "cell_type": "code",
   "execution_count": null,
   "id": "fe6d9032",
   "metadata": {},
   "outputs": [],
   "source": [
    "sorders[sorders.qtyordered.astype(int) != sorders.qtyordered]"
   ]
  },
  {
   "cell_type": "markdown",
   "id": "216d63c3",
   "metadata": {},
   "source": [
    "#### There is only one row that has decimal values in qtyordered or qtyshipped"
   ]
  },
  {
   "cell_type": "code",
   "execution_count": null,
   "id": "1b3bb881",
   "metadata": {},
   "outputs": [],
   "source": [
    "1302.12 / 15"
   ]
  },
  {
   "cell_type": "markdown",
   "id": "2a500a6c",
   "metadata": {},
   "source": [
    "#### I know that this itemid is a product with a price between 40-60 dollars, but which doesn't seem to add up right. So lets drop this row"
   ]
  },
  {
   "cell_type": "code",
   "execution_count": null,
   "id": "596ed8a6",
   "metadata": {},
   "outputs": [],
   "source": [
    "sorders = sorders[~(sorders.qtyordered.astype(int) != sorders.qtyordered)]"
   ]
  },
  {
   "cell_type": "code",
   "execution_count": null,
   "id": "9141bb86",
   "metadata": {},
   "outputs": [],
   "source": [
    "sorders"
   ]
  },
  {
   "cell_type": "markdown",
   "id": "476ff81d",
   "metadata": {},
   "source": [
    "#### Now we can change qtyordered and qtyshipped to int"
   ]
  },
  {
   "cell_type": "code",
   "execution_count": null,
   "id": "12a1d4ab",
   "metadata": {},
   "outputs": [],
   "source": [
    "sorders.qtyordered = sorders.qtyordered.astype(int)\n",
    "sorders.qtyshipped = sorders.qtyshipped.astype(int)"
   ]
  },
  {
   "cell_type": "code",
   "execution_count": null,
   "id": "b14cb64a",
   "metadata": {},
   "outputs": [],
   "source": [
    "sorders.info()"
   ]
  },
  {
   "cell_type": "code",
   "execution_count": null,
   "id": "270ea574",
   "metadata": {
    "scrolled": true
   },
   "outputs": [],
   "source": [
    "items.info()"
   ]
  },
  {
   "cell_type": "code",
   "execution_count": null,
   "id": "47971e20",
   "metadata": {},
   "outputs": [],
   "source": [
    "sorders.columns.to_list()"
   ]
  },
  {
   "cell_type": "code",
   "execution_count": null,
   "id": "74913aa6",
   "metadata": {},
   "outputs": [],
   "source": [
    "cols = ['order_id', 'order_no', 'customer_id', 'order_status', 'order_amount',\n",
    "     'seq', 'qty_ordered', 'qty_shipped', 'item_id']"
   ]
  },
  {
   "cell_type": "code",
   "execution_count": null,
   "id": "ee97deeb",
   "metadata": {},
   "outputs": [],
   "source": [
    "sorders.columns = cols"
   ]
  },
  {
   "cell_type": "code",
   "execution_count": null,
   "id": "63476cdb",
   "metadata": {},
   "outputs": [],
   "source": [
    "sorders.columns"
   ]
  },
  {
   "cell_type": "code",
   "execution_count": null,
   "id": "f5e28cd6",
   "metadata": {},
   "outputs": [],
   "source": [
    "sorders.index.max()"
   ]
  },
  {
   "cell_type": "code",
   "execution_count": null,
   "id": "4bde8651",
   "metadata": {},
   "outputs": [],
   "source": []
  }
 ],
 "metadata": {
  "kernelspec": {
   "display_name": "Python 3 (ipykernel)",
   "language": "python",
   "name": "python3"
  },
  "language_info": {
   "codemirror_mode": {
    "name": "ipython",
    "version": 3
   },
   "file_extension": ".py",
   "mimetype": "text/x-python",
   "name": "python",
   "nbconvert_exporter": "python",
   "pygments_lexer": "ipython3",
   "version": "3.9.13"
  }
 },
 "nbformat": 4,
 "nbformat_minor": 5
}
